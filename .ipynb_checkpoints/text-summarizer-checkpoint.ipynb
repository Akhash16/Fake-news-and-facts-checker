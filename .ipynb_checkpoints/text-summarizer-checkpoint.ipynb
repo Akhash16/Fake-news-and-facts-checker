{
 "cells": [
  {
   "cell_type": "code",
   "execution_count": null,
   "metadata": {},
   "outputs": [],
   "source": [
    "from urllib.request import Request,urlopen\n",
    "from bs4 import BeautifulSoup as soup \n",
    "\n",
    "my_url = msg \n",
    "req = Request(my_url, headers={'User-Agent': 'Mozilla/5.0'})\n",
    "uClient = urlopen(req)\n",
    "page_html = uClient.read()\n",
    "uClient.close()\n",
    "page_soup = soup(page_html,'html.parser')\n",
    "\n",
    "article_text =' '.join(map(lambda p: p.text,page_soup.find_all('p')))\n",
    "\n",
    "from summa.summarizer import summarize\n",
    "ans = summarize(article_text)\n",
    "resp.message(ans)\n"
   ]
  }
 ],
 "metadata": {
  "kernelspec": {
   "display_name": "Python 3",
   "language": "python",
   "name": "python3"
  },
  "language_info": {
   "codemirror_mode": {
    "name": "ipython",
    "version": 3
   },
   "file_extension": ".py",
   "mimetype": "text/x-python",
   "name": "python",
   "nbconvert_exporter": "python",
   "pygments_lexer": "ipython3",
   "version": "3.7.6"
  }
 },
 "nbformat": 4,
 "nbformat_minor": 4
}
