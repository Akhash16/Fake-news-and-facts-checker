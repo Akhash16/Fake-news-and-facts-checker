{
 "cells": [
  {
   "cell_type": "code",
   "execution_count": 18,
   "metadata": {},
   "outputs": [
    {
     "name": "stdout",
     "output_type": "stream",
     "text": [
      "The news is REAL\n",
      "The Indian Express\n",
      "Though skipper M S Dhoni conceded after the loss against Rajasthan Royals that the season might be already over them, CSK can still get to 14 points if they win their remaining four games, giving them an outside chance of making the play-offs.\n"
     ]
    }
   ],
   "source": [
    "#without wordcount \n",
    "\n",
    "from newsapi import NewsApiClient\n",
    "\n",
    "source1 = []\n",
    "description1 = []\n",
    "newsapi = NewsApiClient(api_key='cc8998f479954041b5f845f0b4491050')\n",
    "news_sources = newsapi.get_sources()\n",
    "\n",
    "sources_list = ['ABC News','BBC News','Wired','ABC News (AU)','BBC Sport','Bloomberg','Business Insider','Business Insider (UK)','Buzzfeed','CBC News','CBS News','CNN','ESPN','Fox News','Google News','Google News (India)','Google News (UK)','Google News (Australia)','IGN','The Times of India','The Wall Street Journal','The Washington Times','TechCrunch','The Hindu']\n",
    "\n",
    "query = CSK wins IPL\n",
    "\n",
    "all_articles = newsapi.get_everything(q = query',sort_by= 'relevancy', language = 'en')\n",
    "for article in all_articles['articles']:\n",
    "    source1.append(article['source']['name'])\n",
    "    description1.append(article['description'])\n",
    "\n",
    "check =  any(item in source1 for item in sources_list)    \n",
    "    \n",
    "if((all_articles['articles'] == []) or (check == False)):\n",
    "    print(\"The news is FAKE\")\n",
    "if(check == True):\n",
    "    print('The news is REAL')\n",
    "    print(source1[0])\n",
    "    print(description1[0])\n",
    "    "
   ]
  },
  {
   "cell_type": "code",
   "execution_count": 40,
   "metadata": {},
   "outputs": [
    {
     "name": "stdout",
     "output_type": "stream",
     "text": [
      "The Indian Express\n",
      "IPL 2020 SRH vs CSK Live Cricket Score Streaming Online Today Match on Hotstar, Star Sports 1: While Sunrisers Hyderabad have won three out of seven matches, Chennai Super Kings have managed just two wins.\n"
     ]
    }
   ],
   "source": [
    "#with wordcount\n",
    "\n",
    "from newsapi import NewsApiClient\n",
    "from nltk.corpus import stopwords\n",
    "from nltk.tokenize import word_tokenize\n",
    "source1 = []\n",
    "description1 = []\n",
    "sources_list = ['ABC News','BBC News','Wired','ABC News (AU)','BBC Sport','Bloomberg','Business Insider','Business Insider (UK)','Buzzfeed','CBC News','CBS News','CNN','ESPN','Fox News','Google News','Google News (India)','Google News (UK)','Google News (Australia)','IGN','The Times of India','The Wall Street Journal','The Washington Times','TechCrunch','The Hindu']\n",
    "newsapi = NewsApiClient(api_key='cc8998f479954041b5f845f0b4491050')\n",
    "news_sources = newsapi.get_sources()\n",
    "\n",
    "query = 'CSK wins IPL'\n",
    "\n",
    "tokenized_text1 = word_tokenize(query)\n",
    "word_count = len(tokenized_text1)\n",
    "clean_msg1 = ''\n",
    "count=0\n",
    "list_of_stopwords = list(stopwords.words('english'))\n",
    "for word in tokenized_text1:\n",
    "        word = word.lower()\n",
    "        if not word in list_of_stopwords and word != '.' and word != \"''\" and word!=\"``\"and word !=']' and word !='!' and word !='%' and word !='&' and word !='?' and word !='//' and word !=';' and word !='|' and word != ' ' and word != \"'\" and word !='\"' and  word !='[' and word != '@' and word != ',' and word !='#' and word !='..' and word !='-' and word !='(' and word !=')' and word != '...' and word != '/' and word !=':':\n",
    "            clean_msg1 += word + ' '\n",
    "all_articles = newsapi.get_everything(q = clean_msg1,sort_by = 'relevancy', language = 'en',)\n",
    "\n",
    "if(all_articles['articles']  != []):\n",
    "    for article in all_articles['articles']:\n",
    "        source1.append(article['source']['name'])\n",
    "        description1.append(article['description'])\n",
    "        \n",
    "check =  any(item in source1 for item in sources_list)\n",
    "\n",
    "if((all_articles['articles'] == []) or (check == False)):\n",
    "    print(\"The news is FAKE\")\n",
    "if(check == True):    \n",
    "    for i in range(len(source1)):\n",
    "        for j in range(word_count):\n",
    "            if (tokenized_text1[j] in description1[i]):\n",
    "                count = count+1;\n",
    "        if (count >= word_count/2):\n",
    "            newsapi_source = source1[i]\n",
    "            newsapi_description = description1[i]\n",
    "            \n",
    "            print(newsapi_source)\n",
    "            print(newsapi_description)\n",
    "            break\n",
    "    if (count < word_count/2):\n",
    "        print('no info')\n",
    "    "
   ]
  },
  {
   "cell_type": "code",
   "execution_count": null,
   "metadata": {},
   "outputs": [],
   "source": []
  }
 ],
 "metadata": {
  "kernelspec": {
   "display_name": "Python 3",
   "language": "python",
   "name": "python3"
  },
  "language_info": {
   "codemirror_mode": {
    "name": "ipython",
    "version": 3
   },
   "file_extension": ".py",
   "mimetype": "text/x-python",
   "name": "python",
   "nbconvert_exporter": "python",
   "pygments_lexer": "ipython3",
   "version": "3.7.6"
  }
 },
 "nbformat": 4,
 "nbformat_minor": 4
}
