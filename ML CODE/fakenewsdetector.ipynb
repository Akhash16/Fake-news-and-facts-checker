{
 "cells": [
  {
   "cell_type": "code",
   "execution_count": 3,
   "metadata": {},
   "outputs": [],
   "source": [
    "import pandas as pd"
   ]
  },
  {
   "cell_type": "code",
   "execution_count": 4,
   "metadata": {},
   "outputs": [
    {
     "output_type": "execute_result",
     "data": {
      "text/plain": "   Unnamed: 0                                              title  \\\n0        8476                       You Can Smell Hillary’s Fear   \n1       10294  Watch The Exact Moment Paul Ryan Committed Pol...   \n2        3608        Kerry to go to Paris in gesture of sympathy   \n3       10142  Bernie supporters on Twitter erupt in anger ag...   \n4         875   The Battle of New York: Why This Primary Matters   \n5        6903                                        Tehran, USA   \n6        7341  Girl Horrified At What She Watches Boyfriend D...   \n7          95                  ‘Britain’s Schindler’ Dies at 106   \n8        4869  Fact check: Trump and Clinton at the 'commande...   \n9        2909  Iran reportedly makes new push for uranium con...   \n\n                                                text label  \n0  Daniel Greenfield, a Shillman Journalism Fello...  FAKE  \n1  Google Pinterest Digg Linkedin Reddit Stumbleu...  FAKE  \n2  U.S. Secretary of State John F. Kerry said Mon...  REAL  \n3  — Kaydee King (@KaydeeKing) November 9, 2016 T...  FAKE  \n4  It's primary day in New York and front-runners...  REAL  \n5    \\nI’m not an immigrant, but my grandparents ...  FAKE  \n6  Share This Baylee Luciani (left), Screenshot o...  FAKE  \n7  A Czech stockbroker who saved more than 650 Je...  REAL  \n8  Hillary Clinton and Donald Trump made some ina...  REAL  \n9  Iranian negotiators reportedly have made a las...  REAL  ",
      "text/html": "<div>\n<style scoped>\n    .dataframe tbody tr th:only-of-type {\n        vertical-align: middle;\n    }\n\n    .dataframe tbody tr th {\n        vertical-align: top;\n    }\n\n    .dataframe thead th {\n        text-align: right;\n    }\n</style>\n<table border=\"1\" class=\"dataframe\">\n  <thead>\n    <tr style=\"text-align: right;\">\n      <th></th>\n      <th>Unnamed: 0</th>\n      <th>title</th>\n      <th>text</th>\n      <th>label</th>\n    </tr>\n  </thead>\n  <tbody>\n    <tr>\n      <th>0</th>\n      <td>8476</td>\n      <td>You Can Smell Hillary’s Fear</td>\n      <td>Daniel Greenfield, a Shillman Journalism Fello...</td>\n      <td>FAKE</td>\n    </tr>\n    <tr>\n      <th>1</th>\n      <td>10294</td>\n      <td>Watch The Exact Moment Paul Ryan Committed Pol...</td>\n      <td>Google Pinterest Digg Linkedin Reddit Stumbleu...</td>\n      <td>FAKE</td>\n    </tr>\n    <tr>\n      <th>2</th>\n      <td>3608</td>\n      <td>Kerry to go to Paris in gesture of sympathy</td>\n      <td>U.S. Secretary of State John F. Kerry said Mon...</td>\n      <td>REAL</td>\n    </tr>\n    <tr>\n      <th>3</th>\n      <td>10142</td>\n      <td>Bernie supporters on Twitter erupt in anger ag...</td>\n      <td>— Kaydee King (@KaydeeKing) November 9, 2016 T...</td>\n      <td>FAKE</td>\n    </tr>\n    <tr>\n      <th>4</th>\n      <td>875</td>\n      <td>The Battle of New York: Why This Primary Matters</td>\n      <td>It's primary day in New York and front-runners...</td>\n      <td>REAL</td>\n    </tr>\n    <tr>\n      <th>5</th>\n      <td>6903</td>\n      <td>Tehran, USA</td>\n      <td>\\nI’m not an immigrant, but my grandparents ...</td>\n      <td>FAKE</td>\n    </tr>\n    <tr>\n      <th>6</th>\n      <td>7341</td>\n      <td>Girl Horrified At What She Watches Boyfriend D...</td>\n      <td>Share This Baylee Luciani (left), Screenshot o...</td>\n      <td>FAKE</td>\n    </tr>\n    <tr>\n      <th>7</th>\n      <td>95</td>\n      <td>‘Britain’s Schindler’ Dies at 106</td>\n      <td>A Czech stockbroker who saved more than 650 Je...</td>\n      <td>REAL</td>\n    </tr>\n    <tr>\n      <th>8</th>\n      <td>4869</td>\n      <td>Fact check: Trump and Clinton at the 'commande...</td>\n      <td>Hillary Clinton and Donald Trump made some ina...</td>\n      <td>REAL</td>\n    </tr>\n    <tr>\n      <th>9</th>\n      <td>2909</td>\n      <td>Iran reportedly makes new push for uranium con...</td>\n      <td>Iranian negotiators reportedly have made a las...</td>\n      <td>REAL</td>\n    </tr>\n  </tbody>\n</table>\n</div>"
     },
     "metadata": {},
     "execution_count": 4
    }
   ],
   "source": [
    "df = pd.read_csv('Datasets/news_datasets.csv')\n",
    "df.head(10)"
   ]
  },
  {
   "cell_type": "code",
   "execution_count": 5,
   "metadata": {
    "tags": []
   },
   "outputs": [
    {
     "output_type": "stream",
     "name": "stdout",
     "text": "<class 'pandas.core.frame.DataFrame'>\nRangeIndex: 6335 entries, 0 to 6334\nData columns (total 4 columns):\n #   Column      Non-Null Count  Dtype \n---  ------      --------------  ----- \n 0   Unnamed: 0  6335 non-null   int64 \n 1   title       6335 non-null   object\n 2   text        6335 non-null   object\n 3   label       6335 non-null   object\ndtypes: int64(1), object(3)\nmemory usage: 198.1+ KB\n"
    }
   ],
   "source": [
    "df.info()"
   ]
  },
  {
   "cell_type": "code",
   "execution_count": 6,
   "metadata": {},
   "outputs": [
    {
     "output_type": "execute_result",
     "data": {
      "text/plain": "REAL    3171\nFAKE    3164\nName: label, dtype: int64"
     },
     "metadata": {},
     "execution_count": 6
    }
   ],
   "source": [
    "df.label.value_counts()"
   ]
  },
  {
   "cell_type": "code",
   "execution_count": 7,
   "metadata": {},
   "outputs": [],
   "source": [
    "df.drop_duplicates(inplace=True)"
   ]
  },
  {
   "cell_type": "code",
   "execution_count": 8,
   "metadata": {
    "tags": []
   },
   "outputs": [
    {
     "output_type": "stream",
     "name": "stdout",
     "text": "<class 'pandas.core.frame.DataFrame'>\nInt64Index: 6335 entries, 0 to 6334\nData columns (total 4 columns):\n #   Column      Non-Null Count  Dtype \n---  ------      --------------  ----- \n 0   Unnamed: 0  6335 non-null   int64 \n 1   title       6335 non-null   object\n 2   text        6335 non-null   object\n 3   label       6335 non-null   object\ndtypes: int64(1), object(3)\nmemory usage: 247.5+ KB\n"
    }
   ],
   "source": [
    "df.info()"
   ]
  },
  {
   "cell_type": "code",
   "execution_count": 9,
   "metadata": {},
   "outputs": [
    {
     "output_type": "execute_result",
     "data": {
      "text/plain": "['i',\n 'me',\n 'my',\n 'myself',\n 'we',\n 'our',\n 'ours',\n 'ourselves',\n 'you',\n \"you're\",\n \"you've\",\n \"you'll\",\n \"you'd\",\n 'your',\n 'yours',\n 'yourself',\n 'yourselves',\n 'he',\n 'him',\n 'his',\n 'himself',\n 'she',\n \"she's\",\n 'her',\n 'hers',\n 'herself',\n 'it',\n \"it's\",\n 'its',\n 'itself',\n 'they',\n 'them',\n 'their',\n 'theirs',\n 'themselves',\n 'what',\n 'which',\n 'who',\n 'whom',\n 'this',\n 'that',\n \"that'll\",\n 'these',\n 'those',\n 'am',\n 'is',\n 'are',\n 'was',\n 'were',\n 'be',\n 'been',\n 'being',\n 'have',\n 'has',\n 'had',\n 'having',\n 'do',\n 'does',\n 'did',\n 'doing',\n 'a',\n 'an',\n 'the',\n 'and',\n 'but',\n 'if',\n 'or',\n 'because',\n 'as',\n 'until',\n 'while',\n 'of',\n 'at',\n 'by',\n 'for',\n 'with',\n 'about',\n 'against',\n 'between',\n 'into',\n 'through',\n 'during',\n 'before',\n 'after',\n 'above',\n 'below',\n 'to',\n 'from',\n 'up',\n 'down',\n 'in',\n 'out',\n 'on',\n 'off',\n 'over',\n 'under',\n 'again',\n 'further',\n 'then',\n 'once',\n 'here',\n 'there',\n 'when',\n 'where',\n 'why',\n 'how',\n 'all',\n 'any',\n 'both',\n 'each',\n 'few',\n 'more',\n 'most',\n 'other',\n 'some',\n 'such',\n 'no',\n 'nor',\n 'not',\n 'only',\n 'own',\n 'same',\n 'so',\n 'than',\n 'too',\n 'very',\n 's',\n 't',\n 'can',\n 'will',\n 'just',\n 'don',\n \"don't\",\n 'should',\n \"should've\",\n 'now',\n 'd',\n 'll',\n 'm',\n 'o',\n 're',\n 've',\n 'y',\n 'ain',\n 'aren',\n \"aren't\",\n 'couldn',\n \"couldn't\",\n 'didn',\n \"didn't\",\n 'doesn',\n \"doesn't\",\n 'hadn',\n \"hadn't\",\n 'hasn',\n \"hasn't\",\n 'haven',\n \"haven't\",\n 'isn',\n \"isn't\",\n 'ma',\n 'mightn',\n \"mightn't\",\n 'mustn',\n \"mustn't\",\n 'needn',\n \"needn't\",\n 'shan',\n \"shan't\",\n 'shouldn',\n \"shouldn't\",\n 'wasn',\n \"wasn't\",\n 'weren',\n \"weren't\",\n 'won',\n \"won't\",\n 'wouldn',\n \"wouldn't\"]"
     },
     "metadata": {},
     "execution_count": 9
    }
   ],
   "source": [
    "from nltk.tokenize import word_tokenize\n",
    "from nltk.corpus import stopwords\n",
    "list_of_stopwords = list(stopwords.words('english'))\n",
    "list_of_stopwords"
   ]
  },
  {
   "cell_type": "code",
   "execution_count": 10,
   "metadata": {},
   "outputs": [
    {
     "output_type": "execute_result",
     "data": {
      "text/plain": "(6335, 4)"
     },
     "metadata": {},
     "execution_count": 10
    }
   ],
   "source": [
    "df.shape"
   ]
  },
  {
   "cell_type": "code",
   "execution_count": 11,
   "metadata": {},
   "outputs": [
    {
     "output_type": "execute_result",
     "data": {
      "text/plain": "jimmy carter tell matters good vision destroyed bad strategy high ideals muddied weak staffing pure heart led astray bad advice plenty criticisms made obama 's presidency think baseline competence administration begun dim memories important presidential management really bush administration perspective genuine disaster — festival tax cuts n't make sense wars ill-planned run man clearly could n't separate experts hacks heckuva job brownie good advice ideological fantasies always thought story reported megan mcardle showed mundane ways bush 's deficiencies diminished presidency senior economic adviser george w. bush told rather haunting story administration ’ decision sign 2002 farm bill like virtually sound economists bush ’ advisers disliked bill subsidy-laden monstrosity considerably worse farm bill preceded 1996—but reluctantly allowed go forward thought passing farm bill would buy legislative support something considered even important authority president needed advance next round treaty negotiations world trade organization compromises go one ’ seem bad bush ’ advisers put game faces president signed law may 13 2002 touching speech providing safety net farmers went well later someone cracked joke ’ need another farm bill president shocked demanded explanation ’ wrong farm bill one told veto farm bill adviser ’ trying hide football assumed bush knew everyone else obvious economists one thought tell president hand george w. bush 's father n't brilliant policy mind ever occupy oval office excellent manager chose good staff made decisions n't like knew necessary ran competent mostly scandal-free bureaucracy 's reason esteem presidency grown greatly since left office voters hiring managers presidential campaign long strangely constructed job interview among qualities people looking inspiration decency sanders shown spades presidency demands sanders 's success means needs show 's mundane rigors job \",\n 'video really disturbing african americans americans general many dnc policies pertain african americans deeply insulting condescending implication voter id laws restrictive average african american portrayed impediments intellectual entitlement mentality democratic nation party racism game cover manipulation minorities majority divide conquer divide voting block conquer election ',\n \"leaked email shows monsanto executive v.p invited 'hillraiser fundraiser put clinton white house monsanto 's benefit monsanto hillary clinton fundraiser charles burson naturalnews wikileaks email 28657 part john podesta email leaks reveals hillary clinton campaign sought money top monsanto executive put white house see email .hillary clinton known bride frankenfood longtime supporter monsanto corporation whose deceptive tactics collusion intimidation bullying perfect fit clinton regime even former fbi official describes criminal operation .the monsanto operative invited fundraiser none charles w. burson monsanto 's former executive v.p. secretary general counsel burson retired monsanto 2006 still maintained active monsanto.com email address way 2015 praised monsanto ceo hugh grant pushing corporation 's international imperialism agenda force patented seeds throats poor farmers developing nations 's sickening via pr newswire behalf monsanto board directors employees monsanto thank charles service company said hugh grant chairman president chief executive officer monsanto tenure monsanto successfully transitioned agricultural company fueled chemistry business one led seeds traits businesses charles played important role building company 's legal organization better serve growing business united states also latin america asia-pacific farmers increasingly choosing plant monsanto seeds technologies clinton fundraiser sought money one evil corporations history humankind words charles burson instrumental monsanto suing farmers whose fields contaminated genetically modified monsanto seeds legal action monsanto globally considered one evil anti-human rights abuses legal power ever witnessed modern world yet hillary clinton campaign saw man opportunity raise money put hillary clinton white house doubt would return favor monsanto government policy decisions usda fda .fully consistent criminal conduct clinton crime mafia charles burson also took part excusing monsanto 's illegal bribery 140 indonesian officials part international agricultural imperialism march subsistence farmers.after caught committing massive bribery collusion indonesia monsanto 's general counsel charles burson explained monsanto n't bad company 're super honest transparent ethical company taken remedial actions address activities indonesia every stage process -- beginning voluntary disclosure throughout governmental investigations settlement process -- monsanto fully cooperative made clear improper activities tolerated company pleased today begin process putting matters rest wrote burson surprise justice department defers prosecution monsanto forgets crimes ever happened whaddaya know corrupt lawless justice department calling shots monsanto given get jail free card political elite washington.from link justice department said agreed defer prosecution criminal information three years saying would dismiss period monsanto fully complied terms agreement wait mean tell corporation got caught bribing 140 foreign officials indonesia -- felony crime u.s. law -- able get away claiming honest justice department says oh yes 're fine prosecution serious crimes clinton fundraiser people specifically reach monsanto attorney orchestrated said hey guy would awesome help support clinton presidency yep.that 's hillary clinton nutshell hopelessly corrupt criminally involved collusion every level total abandonment human rights human dignity woman n't behind desk oval office behind bars oh case 're curious emails cc 'd hillary clinton fundraiser message check names see deep clinton corruption really ldavis lannyjdavis.comto aegis1865 gmail.com agoldberg tridentpllc.com teaguelr aol.com alan.kreczko thehartford.com amy weisspublicaffairs.com annedwards gmail.com barry_toiv aau.edu benjaminmaxwelladams gmail.com bethnolan gmail.com blindsey wlj.com bobjnash sbcglobal.net bdsmith cov.com mimbroscio cov.com bwnussbaum wlrk.com c_moscatelli yahoo.com cadavis8 gmail.com charles.w.burson monsanto.com cheryl.mills gmail.com ches.johnson gmail.com christopherlehane sbcglobal.net cliffmauton hotmail.com dnionakis gmail.com davidfein icloud.com dmchirwa live.com debbzerwitz gmail.com ddoufekias mofo.com dkendall wc.com bluetext.com donna.peel comcast.net dsosnik nba.com doug.band technoholdings.com dpeel rddlaw.net efhughes4 yahoo.com eangel legalaiddc.org erskine 2bowles.com ericgioia gmail.com ecomite scott-scott.com fitztoiv yahoo.com gterzano hotmail.com dcanter434 aol.com goodstein8 aol.com gradymccoy yahoo.com wgreggburgess gmail.com hickes ickesenright.com ira.fishman nflplayers.com iraij foley.com jjohnson gloverpark.com jkagan supremecourt.gov jkennedy2006 gmail.com jlockhart jplgrp.com jquinn quinngillespie.com jakesiewert gmail.com jamie.baker armfor.uscourts.gov jane.sherburne bnymellon.com jennifer.m.palmieri gmail.com jeremymgaines gmail.com jklein newscorp.com jlwitt wittassociates.com john.podesta gmail.com jonathan.yarowsky wilmerhale.com joshua.king thehartford.com josh personal.com juliampayne24 gmail.com juliemziemba gmail.com karen_kucik yahoo.com karacine venable.com kathiwhalen comcast.net kathyruemmler gmail.com kearney_j sbcglobal.net kengskov starbucks.com kpopp sidley.com kumiki.gibson gmail.com lbreuer cov.com lbrown georgetown.edu lisa.krim georgetown.edu lizdave me.com loriwier comcast.net lorriemchugh comcast.com moconnor wc.com mmelendez lannyjdavis.com margaretwhillock sbcglobal.net marnacooks gmail.com marsha scottyandura.com marvin.krislov oberlin.edu marystreett hotmail.com maryellen_glynn yahoo.com marymfrench sbcglobal.net mary_b._derosa nsc.eop.gov maura.pally gmail.com mdf markfabiani.com melissaprober gmail.com mecabe verizon.net michelle_aronowitz hotmail.com mmccurry psw-inc.com nadjanaomi me.com neal.wolin gmail.com claire_e_mccombs who.eop.gov ernewman alumni.princeton.edu nicole.seligman us.sony.com pambcashwell gmail.com pmarple chadbourne.com info panettainstitute.org pauloetken gmail.com peter.erichsen ropesgray.com prundlet humanityunited.org rklain aol.com robert.weiner aporter.com rslater pattonboggs.com srutherford clintonschool.uasys.edu sbradley mclarty.com sreich akingump.com swilson cov.com sally thepaxtongroupconsulting.com sbwhoeop aol.com emkarcher.schmitt yahoo.com shelia.cheston ngc.com shelli_peterson fd.org stacyr404 gmail.com stephenneuwirth quinnemanuel.com stever metalrecyclingcorp.com sricchetti cox.net stevenfreich gmail.com sylvia.burwell hotmail.com tfmclarty maglobal.com todd_j_campbell tnmd.uscourts.gov tschroeder texarkanalaw.com vcanter434 aol.com wdellinger omm.com wendy.white ogc.upenn.edu wpmarsha email.unc.edu \",\n 'clintons multiple fbi investigations agents stymied http //wallstreetonparade.com/2016/10/clintons-are-under-multiple-fbi-investigations-as-agents-are-stymied/ post clintons multiple fbi investigations agents stymied appeared first paulcraigroberts.org ',\n \"military goal 'liberate eastern bank tigris river jason ditz october 31 2016 share iraq ’ invasion mosul entered third week noteworthy first first iraqi special forces entered city area around karama district far east fighting reported within district surrounding suburbs indications vast majority fighting area remains suburbs small incursion city still iraqi military officials say goal take whole eastern bank tigris river divides city area entered near key industrial site within mosul unclear well secured area isis ’ perspective ’ laid heavy traps tunneled around city anticipation invasion indications lot defensive measures taken residential areas isis believed several thousand fighters mosul us announcing intend kill anyone tries escape likely resist fiercely knowing ’ place go mosul last 5 posts jason ditz \",\n 'shock video hillary needs help climbing one single step florida shock video hillary needs help climbing one single step florida videos truthfeednews october 27 2016 hillary clinton needed helping hand trek single step visit florida today clinton outside greet supporters lake worth attempted stand small riser help secret service agents finally conquered single step watch video support trump movement help us fight liberal media bias please like share story facebook twitter ',\n 'president obama ’ decision expand u.s. war effort iraq syria reflection conflicting pressures commander chief doubts military force alone end conflicts countries also feels compelled act face humanitarian catastrophe growing threat united states president friday said sending 50 special operations troops northern syria work kurdish arab fighters battling islamic state deployment though small marks first full-time deployment u.s. forces dangerous chaotic country troops accompanied u.s. attack planes based across border turkey plans joint raids — led iraqi counterterrorism forces — capture kill islamic state leaders troops planes plans raids represent “ intensification ” president ’ existing strategy said senior administration officials officials however suggested moves would enough break open stalemated conflict produce sudden battlefield gains “ complex battle space ’ directly involved way ’ past ” said senior administration official spoke condition anonymity discuss internal deliberations without clear overarching strategy resolve conflict “ ’ looking things granular way ” official said goal simply incrementally reinforce areas working abandon initiatives obama began second term brought one war iraq end pledging bring home america ’ ground troops second afghanistan end set hard limits u.s. deployments firm time frames withdrawal u.s. forces deploying forces obama would regularly demand commanders explain “ theory case ” behind moves phrase evocative president ’ legal training deep skepticism u.s. military power bring lasting change broken societies wanted assurances operations would work intended well coherent explanations would end nears end presidency obama faces prospect leave office ground forces deployed three combat zones last month president said would keep 5,500 ground troops afghanistan advise struggling afghan army pursue remnants al-qaeda iraq syria president incrementally boosted u.s. force beginning initial deployment several hundred troops iraq 2014 iraqi army forces mosul overrun islamic state fighters president sent 450 american trainers advisers iraqi forces routed ramadi much smaller islamic state force spring forces supposed work iraqi army local tribal fighters plan offensive ramadi largely stalled “ four axes converging ramadi given day none makes movement ” said senior u.s. official involved war planning frustrated lack progress obama july made rare visit pentagon push defense secretary ashton b. carter top commanders options increase intensity u.s. military operations without putting u.s. troops direct combat role ambitious costly measures no-fly zones buffer zones would require tens thousands ground troops effectively protect civilians rejected democratic presidential front-runner hillary rodham clinton said favors no-fly zone syria riskier proposals introduction apache helicopters combat advisers would move closer front lines call airstrikes bolster iraqi attack ramadi ’ explicitly rejected deemed unnecessary president ’ final decision balanced desire united states determination keep american forces pulled deeply conflicts u.s. effectiveness limited clear military solutions 50 special operations troops new attack planes heading syria turkey bolster kurdish syrian arab forces able make surprising gains summer backing u.s. warplanes “ success northern syria ’ result strategic planning ” said senior defense official tracks operations region “ really opportunity fell laps. ” syrian arab kurdish forces fought within 30 miles raqqa islamic state ’ de facto capital additional american help u.s. officials said fighters could isolate city cutting supply lines running syrian border longer term u.s. officials said loose coalition syrian arab turkmen kurdish fighters might able dislodge islamic state 68-mile stretch border creating space refugees find hope coalition also begin provide level governance take part diplomatic negotiations replace syrian president bashar al-assad even optimistic u.s. officials said outcome could take years near term administration officials expressed cautious optimism combination u.s. air power bigger iraqi push islamic state forces ramadi along kurdish syrian arab efforts raqqa along border could shift momentum battlefield “ get things motion put lot pressure islamic state move communicate ” senior u.s. official said “ become targets. ” far ’ strategy ’ draw much support washington republicans democrats pressing obama criticized president ’ caution “ incremental step-by-step approach effort manage risk keep tight reins mission ultimately could mean whole less sum parts ” said michele flournoy chief executive officer center new american security among obama ’ top choices defense secretary last year carter selected flournoy said addition u.s. air controllers call airstrikes robust bombing campaign support moderate rebels combined measures president already taking could accelerate gains battlefield “ took actions could greater impact ” said liberal democrats described president ’ moves slippery slope deeper u.s. commitment rep. jim mcgovern d-mass called president ’ announcement last week “ latest series alarming signs u.s. war isis continue accelerate absence congressional action. ” white house officials meanwhile described president ’ moves product hard lessons learned complicated chaotic battlefield “ always envisioned three-year campaign ” senior u.s. official said “ year one learned local partners well others ’ doubling well ” ',\n \"geoengineeringwatch.org global climate engineering programs mathematically single greatest assault nature ever launched human race incredibly majority global populations still remain oblivious ongoing blatant climate engineering atrocities occurring overhead day day willful blindness masses largely due total betrayal truth vast majority science community mainstream media heavily invested covering crimes paymasters badly damaged thriving biosphere past point return regard thriving planet known quote powerful moving recent article dr. glen barry accurately outlines reality collectively face miraculous nature murdered everywhere look inequitable over-consumption devastating natural ecosystems sustain living earth together yield ecological truth – personally embracing global ecology ethic demanding others well – needlessly die others ’ throats global ecological system collapses ends primary sign biosphere collapse clearly evident rapidly imploding cryosphere arctic sea ice continues advance record low levels though official agencies like nasa never admit ongoing climate engineering crimes beginning acknowledge excessive cloud cover arctic recent years solar radiation management exacerbating overall warming mitigating studies also confirm overall planetary warming fueled contrails reality solar radiation management sprayed particulate trails 30 second video fully illustrates shocking loss arctic sea ice arctic sea ice record low level ice opposite end earth antarctica also rapidly retreating record low levels well fact us corporate media covering 2 minute video elaborates rapidly accelerating loss antarctic sea ice antarctic sea ice extent last vestige denial still desperately cling global warming hoax fossil fuel industry false narrative dogmatically cling false narrative also toe line power structure big oil climate engineers poles part cryosphere imploding himalayan glaciers disappearing blinding speed 8 minute video recent update himalayas planet already free-falling runaway warming scenario global climate engineering fueling scenario graph illustrates rapid increase warmer days recorded planet global climate engineering programs worsening overall warming biosphere also destroying ozone layer derailing hydrological cycle contaminating entire planet due highly toxic heavy metal chemical fallout go stand power structure currently controls fate world live single greatest leap could collectively make right direction fully exposing climate engineering issue masses expose geoengineering assault populations around globe would unite common cause expose stop still clinging insanely false global warming hoax narrative great harm credibility overall anti-geoengineering community thus cause planet accelerating total meltdown climate engineering making already horrific anthropogenic warming scenario far worse overall truly claim committed fight stop climate engineering obligation objectively examine frontline facts film footage sadly even major independent news sites pushing global warming hoax false narrative pushing patently false narrative exactly climate engineering/industrial complex wants extremely harmful cause exposing halting ongoing weather warfare assault chance stopping climate engineering insanity chance convincing climate science community start telling truth climate engineering assault anti-climate engineering community must stand frontline facts ridiculously false ideological dogma investigate make voice heard time side may freely reprinted long text unaltered hyperlinks left intact credit article prominently given geoengineeringwatch.org article ’ author hyperlink back original story 6 responses climate engineering cryosphere collapse jim stewart october 27 2016 4:18 pm sadly even major 'independent news sites pushing 'global warming hoax false narrative indeed shame infowars considering know better much hyperbolic elipitical rhetoric geared sell folks wish believe rather truthseekers pursue savvy shrewd \",\n ...]"
     },
     "metadata": {},
     "execution_count": 11
    }
   ],
   "source": [
    "clean_text = []\n",
    "for i in range(6335):\n",
    "    text_msg = df['text'].values[i]\n",
    "    tokenized_text = word_tokenize(text_msg)\n",
    "    clean_msg = ''\n",
    "    for word in tokenized_text:\n",
    "        word = word.lower()\n",
    "        if not word in list_of_stopwords and word != '.' and word != \"''\" and word!=\"``\"and word !=']' and word !='!' and word !='%' and word !='&' and word !='?' and word !='//' and word !=';' and word !='|' and word != ' ' and word != \"'\" and word !='\"' and  word !='[' and word != '@' and word != ',' and word !='#' and word !='..' and word !='-' and word !='(' and word !=')' and word != '...' and word != '/' and word !=':':\n",
    "            clean_msg += word + ' '\n",
    "            \n",
    "    clean_text.append(clean_msg)\n",
    "    \n",
    "clean_text"
   ]
  },
  {
   "cell_type": "code",
   "execution_count": 12,
   "metadata": {},
   "outputs": [],
   "source": [
    "df['clean_text'] = clean_text"
   ]
  },
  {
   "cell_type": "code",
   "execution_count": 13,
   "metadata": {},
   "outputs": [
    {
     "output_type": "execute_result",
     "data": {
      "text/plain": "   Unnamed: 0                                              title  \\\n0        8476                       You Can Smell Hillary’s Fear   \n1       10294  Watch The Exact Moment Paul Ryan Committed Pol...   \n2        3608        Kerry to go to Paris in gesture of sympathy   \n3       10142  Bernie supporters on Twitter erupt in anger ag...   \n4         875   The Battle of New York: Why This Primary Matters   \n\n                                                text label  \\\n0  Daniel Greenfield, a Shillman Journalism Fello...  FAKE   \n1  Google Pinterest Digg Linkedin Reddit Stumbleu...  FAKE   \n2  U.S. Secretary of State John F. Kerry said Mon...  REAL   \n3  — Kaydee King (@KaydeeKing) November 9, 2016 T...  FAKE   \n4  It's primary day in New York and front-runners...  REAL   \n\n                                          clean_text  \n0  daniel greenfield shillman journalism fellow f...  \n1  google pinterest digg linkedin reddit stumbleu...  \n2  u.s. secretary state john f. kerry said monday...  \n3  — kaydee king kaydeeking november 9 2016 lesso...  \n4  's primary day new york front-runners hillary ...  ",
      "text/html": "<div>\n<style scoped>\n    .dataframe tbody tr th:only-of-type {\n        vertical-align: middle;\n    }\n\n    .dataframe tbody tr th {\n        vertical-align: top;\n    }\n\n    .dataframe thead th {\n        text-align: right;\n    }\n</style>\n<table border=\"1\" class=\"dataframe\">\n  <thead>\n    <tr style=\"text-align: right;\">\n      <th></th>\n      <th>Unnamed: 0</th>\n      <th>title</th>\n      <th>text</th>\n      <th>label</th>\n      <th>clean_text</th>\n    </tr>\n  </thead>\n  <tbody>\n    <tr>\n      <th>0</th>\n      <td>8476</td>\n      <td>You Can Smell Hillary’s Fear</td>\n      <td>Daniel Greenfield, a Shillman Journalism Fello...</td>\n      <td>FAKE</td>\n      <td>daniel greenfield shillman journalism fellow f...</td>\n    </tr>\n    <tr>\n      <th>1</th>\n      <td>10294</td>\n      <td>Watch The Exact Moment Paul Ryan Committed Pol...</td>\n      <td>Google Pinterest Digg Linkedin Reddit Stumbleu...</td>\n      <td>FAKE</td>\n      <td>google pinterest digg linkedin reddit stumbleu...</td>\n    </tr>\n    <tr>\n      <th>2</th>\n      <td>3608</td>\n      <td>Kerry to go to Paris in gesture of sympathy</td>\n      <td>U.S. Secretary of State John F. Kerry said Mon...</td>\n      <td>REAL</td>\n      <td>u.s. secretary state john f. kerry said monday...</td>\n    </tr>\n    <tr>\n      <th>3</th>\n      <td>10142</td>\n      <td>Bernie supporters on Twitter erupt in anger ag...</td>\n      <td>— Kaydee King (@KaydeeKing) November 9, 2016 T...</td>\n      <td>FAKE</td>\n      <td>— kaydee king kaydeeking november 9 2016 lesso...</td>\n    </tr>\n    <tr>\n      <th>4</th>\n      <td>875</td>\n      <td>The Battle of New York: Why This Primary Matters</td>\n      <td>It's primary day in New York and front-runners...</td>\n      <td>REAL</td>\n      <td>'s primary day new york front-runners hillary ...</td>\n    </tr>\n  </tbody>\n</table>\n</div>"
     },
     "metadata": {},
     "execution_count": 13
    }
   ],
   "source": [
    "df.head()"
   ]
  },
  {
   "cell_type": "code",
   "execution_count": 14,
   "metadata": {},
   "outputs": [
    {
     "output_type": "execute_result",
     "data": {
      "text/plain": "'Daniel Greenfield, a Shillman Journalism Fellow at the Freedom Center, is a New York writer focusing on radical Islam. \\nIn the final stretch of the election, Hillary Rodham Clinton has gone to war with the FBI. \\nThe word “unprecedented” has been thrown around so often this election that it ought to be retired. But it’s still unprecedented for the nominee of a major political party to go war with the FBI. \\nBut that’s exactly what Hillary and her people have done. Coma patients just waking up now and watching an hour of CNN from their hospital beds would assume that FBI Director James Comey is Hillary’s opponent in this election. \\nThe FBI is under attack by everyone from Obama to CNN. Hillary’s people have circulated a letter attacking Comey. There are currently more media hit pieces lambasting him than targeting Trump. It wouldn’t be too surprising if the Clintons or their allies were to start running attack ads against the FBI. \\nThe FBI’s leadership is being warned that the entire left-wing establishment will form a lynch mob if they continue going after Hillary. And the FBI’s credibility is being attacked by the media and the Democrats to preemptively head off the results of the investigation of the Clinton Foundation and Hillary Clinton. \\nThe covert struggle between FBI agents and Obama’s DOJ people has gone explosively public. \\nThe New York Times has compared Comey to J. Edgar Hoover. Its bizarre headline, “James Comey Role Recalls Hoover’s FBI, Fairly or Not” practically admits up front that it’s spouting nonsense. The Boston Globe has published a column calling for Comey’s resignation. Not to be outdone, Time has an editorial claiming that the scandal is really an attack on all women. \\nJames Carville appeared on MSNBC to remind everyone that he was still alive and insane. He accused Comey of coordinating with House Republicans and the KGB. And you thought the “vast right wing conspiracy” was a stretch. \\nCountless media stories charge Comey with violating procedure. Do you know what’s a procedural violation? Emailing classified information stored on your bathroom server. \\nSenator Harry Reid has sent Comey a letter accusing him of violating the Hatch Act. The Hatch Act is a nice idea that has as much relevance in the age of Obama as the Tenth Amendment. But the cable news spectrum quickly filled with media hacks glancing at the Wikipedia article on the Hatch Act under the table while accusing the FBI director of one of the most awkward conspiracies against Hillary ever. \\nIf James Comey is really out to hurt Hillary, he picked one hell of a strange way to do it. \\nNot too long ago Democrats were breathing a sigh of relief when he gave Hillary Clinton a pass in a prominent public statement. If he really were out to elect Trump by keeping the email scandal going, why did he trash the investigation? Was he on the payroll of House Republicans and the KGB back then and playing it coy or was it a sudden development where Vladimir Putin and Paul Ryan talked him into taking a look at Anthony Weiner’s computer? \\nEither Comey is the most cunning FBI director that ever lived or he’s just awkwardly trying to navigate a political mess that has trapped him between a DOJ leadership whose political futures are tied to Hillary’s victory and his own bureau whose apolitical agents just want to be allowed to do their jobs. \\nThe only truly mysterious thing is why Hillary and her associates decided to go to war with a respected Federal agency. Most Americans like the FBI while Hillary Clinton enjoys a 60% unfavorable rating. \\nAnd it’s an interesting question. \\nHillary’s old strategy was to lie and deny that the FBI even had a criminal investigation underway. Instead her associates insisted that it was a security review. The FBI corrected her and she shrugged it off. But the old breezy denial approach has given way to a savage assault on the FBI. \\nPretending that nothing was wrong was a bad strategy, but it was a better one that picking a fight with the FBI while lunatic Clinton associates try to claim that the FBI is really the KGB. \\nThere are two possible explanations. \\nHillary Clinton might be arrogant enough to lash out at the FBI now that she believes that victory is near. The same kind of hubris that led her to plan her victory fireworks display could lead her to declare a war on the FBI for irritating her during the final miles of her campaign. \\nBut the other explanation is that her people panicked. \\nGoing to war with the FBI is not the behavior of a smart and focused presidential campaign. It’s an act of desperation. When a presidential candidate decides that her only option is to try and destroy the credibility of the FBI, that’s not hubris, it’s fear of what the FBI might be about to reveal about her. \\nDuring the original FBI investigation, Hillary Clinton was confident that she could ride it out. And she had good reason for believing that. But that Hillary Clinton is gone. In her place is a paranoid wreck. Within a short space of time the “positive” Clinton campaign promising to unite the country has been replaced by a desperate and flailing operation that has focused all its energy on fighting the FBI. \\nThere’s only one reason for such bizarre behavior. \\nThe Clinton campaign has decided that an FBI investigation of the latest batch of emails poses a threat to its survival. And so it’s gone all in on fighting the FBI. It’s an unprecedented step born of fear. It’s hard to know whether that fear is justified. But the existence of that fear already tells us a whole lot. \\nClinton loyalists rigged the old investigation. They knew the outcome ahead of time as well as they knew the debate questions. Now suddenly they are no longer in control. And they are afraid. \\nYou can smell the fear. \\nThe FBI has wiretaps from the investigation of the Clinton Foundation. It’s finding new emails all the time. And Clintonworld panicked. The spinmeisters of Clintonworld have claimed that the email scandal is just so much smoke without fire. All that’s here is the appearance of impropriety without any of the substance. But this isn’t how you react to smoke. It’s how you respond to a fire. \\nThe misguided assault on the FBI tells us that Hillary Clinton and her allies are afraid of a revelation bigger than the fundamental illegality of her email setup. The email setup was a preemptive cover up. The Clinton campaign has panicked badly out of the belief, right or wrong, that whatever crime the illegal setup was meant to cover up is at risk of being exposed. \\nThe Clintons have weathered countless scandals over the years. Whatever they are protecting this time around is bigger than the usual corruption, bribery, sexual assaults and abuses of power that have followed them around throughout the years. This is bigger and more damaging than any of the allegations that have already come out. And they don’t want FBI investigators anywhere near it. \\nThe campaign against Comey is pure intimidation. It’s also a warning. Any senior FBI people who value their careers are being warned to stay away. The Democrats are closing ranks around their nominee against the FBI. It’s an ugly and unprecedented scene. It may also be their last stand. \\nHillary Clinton has awkwardly wound her way through numerous scandals in just this election cycle. But she’s never shown fear or desperation before. Now that has changed. Whatever she is afraid of, it lies buried in her emails with Huma Abedin. And it can bring her down like nothing else has.  '"
     },
     "metadata": {},
     "execution_count": 14
    }
   ],
   "source": [
    "df.text[0]"
   ]
  },
  {
   "cell_type": "code",
   "execution_count": 15,
   "metadata": {},
   "outputs": [
    {
     "output_type": "execute_result",
     "data": {
      "text/plain": "'daniel greenfield shillman journalism fellow freedom center new york writer focusing radical islam final stretch election hillary rodham clinton gone war fbi word “ unprecedented ” thrown around often election ought retired ’ still unprecedented nominee major political party go war fbi ’ exactly hillary people done coma patients waking watching hour cnn hospital beds would assume fbi director james comey hillary ’ opponent election fbi attack everyone obama cnn hillary ’ people circulated letter attacking comey currently media hit pieces lambasting targeting trump ’ surprising clintons allies start running attack ads fbi fbi ’ leadership warned entire left-wing establishment form lynch mob continue going hillary fbi ’ credibility attacked media democrats preemptively head results investigation clinton foundation hillary clinton covert struggle fbi agents obama ’ doj people gone explosively public new york times compared comey j. edgar hoover bizarre headline “ james comey role recalls hoover ’ fbi fairly ” practically admits front ’ spouting nonsense boston globe published column calling comey ’ resignation outdone time editorial claiming scandal really attack women james carville appeared msnbc remind everyone still alive insane accused comey coordinating house republicans kgb thought “ vast right wing conspiracy ” stretch countless media stories charge comey violating procedure know ’ procedural violation emailing classified information stored bathroom server senator harry reid sent comey letter accusing violating hatch act hatch act nice idea much relevance age obama tenth amendment cable news spectrum quickly filled media hacks glancing wikipedia article hatch act table accusing fbi director one awkward conspiracies hillary ever james comey really hurt hillary picked one hell strange way long ago democrats breathing sigh relief gave hillary clinton pass prominent public statement really elect trump keeping email scandal going trash investigation payroll house republicans kgb back playing coy sudden development vladimir putin paul ryan talked taking look anthony weiner ’ computer either comey cunning fbi director ever lived ’ awkwardly trying navigate political mess trapped doj leadership whose political futures tied hillary ’ victory bureau whose apolitical agents want allowed jobs truly mysterious thing hillary associates decided go war respected federal agency americans like fbi hillary clinton enjoys 60 unfavorable rating ’ interesting question hillary ’ old strategy lie deny fbi even criminal investigation underway instead associates insisted security review fbi corrected shrugged old breezy denial approach given way savage assault fbi pretending nothing wrong bad strategy better one picking fight fbi lunatic clinton associates try claim fbi really kgb two possible explanations hillary clinton might arrogant enough lash fbi believes victory near kind hubris led plan victory fireworks display could lead declare war fbi irritating final miles campaign explanation people panicked going war fbi behavior smart focused presidential campaign ’ act desperation presidential candidate decides option try destroy credibility fbi ’ hubris ’ fear fbi might reveal original fbi investigation hillary clinton confident could ride good reason believing hillary clinton gone place paranoid wreck within short space time “ positive ” clinton campaign promising unite country replaced desperate flailing operation focused energy fighting fbi ’ one reason bizarre behavior clinton campaign decided fbi investigation latest batch emails poses threat survival ’ gone fighting fbi ’ unprecedented step born fear ’ hard know whether fear justified existence fear already tells us whole lot clinton loyalists rigged old investigation knew outcome ahead time well knew debate questions suddenly longer control afraid smell fear fbi wiretaps investigation clinton foundation ’ finding new emails time clintonworld panicked spinmeisters clintonworld claimed email scandal much smoke without fire ’ appearance impropriety without substance ’ react smoke ’ respond fire misguided assault fbi tells us hillary clinton allies afraid revelation bigger fundamental illegality email setup email setup preemptive cover clinton campaign panicked badly belief right wrong whatever crime illegal setup meant cover risk exposed clintons weathered countless scandals years whatever protecting time around bigger usual corruption bribery sexual assaults abuses power followed around throughout years bigger damaging allegations already come ’ want fbi investigators anywhere near campaign comey pure intimidation ’ also warning senior fbi people value careers warned stay away democrats closing ranks around nominee fbi ’ ugly unprecedented scene may also last stand hillary clinton awkwardly wound way numerous scandals election cycle ’ never shown fear desperation changed whatever afraid lies buried emails huma abedin bring like nothing else '"
     },
     "metadata": {},
     "execution_count": 15
    }
   ],
   "source": [
    "df.clean_text[0]"
   ]
  },
  {
   "cell_type": "code",
   "execution_count": 16,
   "metadata": {},
   "outputs": [
    {
     "output_type": "execute_result",
     "data": {
      "text/plain": "ted politico ‘ demystifying ’ huma abedin ',\n 'learned speaking r.n.c attendee every state ',\n \"zakharova kiev 's talk armed osce mission disinformation \",\n 'final votes patriot act trade deal bill set dramatic stage congress ’ return ',\n '’ write donald trump ’ political obituary yet surging ben carson looks like flavor month ',\n \"manny pacquiao 's son dead report says jimuel pacquiao dies asthm complications morning news usa \",\n \"hillary clinton 's postapocalyptic hellscape plan \",\n 'carmel institute celebrates 5th anniversary jazz concert ',\n \"trump ’ twitter access revoked onion america 's finest news source \",\n 'raise wage paul krugman shatters myth ’ afford boost workers ’ pay ',\n 'obama ’ arctic trip comes climate change builds 2016 issue ',\n 'youtube censoring videos – censorship ',\n 'hillary clinton proactively set ethics rules ',\n 'israel hawks pope francis stay politics ',\n 'budgeting good war 75 years ',\n 'anti-clinton revolt among american elites gain momentum ',\n 'american funhouse manufacturing consent ',\n 'hillary clinton appoint old world nationalists cabinet positions ',\n '’ clinton trump must debate stage win night ',\n 'clinton trump would bring war-time posture white house ',\n 'gop debate fear cauldron according republican candidates ’ going die ',\n 'clinton holds narrow lead trump eve conventions ',\n \"kevin mccarthy announces 's candidate house speaker +video \",\n 'guide paradoxroutine ',\n 't-time warner merger another media consolidation puts profits consumers ',\n 'fall house bush last name donald trump doomed jeb ',\n 'mitt romney fans speculation another white house run ',\n 'us airstrike kills four iraqi troops near mosul ',\n '‘ tolerant ’ liberals show nothing contempt hatred toward nation ’ black supreme court justice ',\n 'us vs politics treated like football game one wins ',\n 'manhunt shifts lone cabin upstate new york prisoner hideout ',\n 'armed dakota access contractor accused trying infiltrate water protectors ',\n '18 state swat team drill prep backlash stolen election ',\n 'michael moore joe blow vote trump “ ultimate f–– elite… human molotov cocktail ” ',\n 'beer less vodka russians mull ongoing crisis rustem falyakhov ',\n 'stop vendetta planned parenthood ',\n 'understanding propaganda art distraction disinformation ',\n 'huffington post continues campaigning hillary clinton ',\n 'trunews 10/31/16 dr. lance wallnau answered prayer cabal crumbles ',\n \"ted cruz victory shows gop 's impossible conundrum +video \",\n 'tea party congressman called armed uprising trump loses ',\n 'us pullout yemen eases pressure al qaeda lawmakers warn ',\n 'obama trade bill trouble ',\n 'secret service testing ways intercept rogue drones late-night flights washington ',\n 'source baltimore mayor ordered police stand ',\n 'marketwatch leftist msm ’ “ blatant ” anti trump bias may suicidal ',\n 'jane sanders fbi get clinton email probe ',\n 'happy new year wall street congress another gift ',\n 'left turns bob dylan pro-israel views refusal acknowledge nobel prize ',\n 'facebook nazi thought police editors threaten quit mark zuckerberg ’ ban donald trump hate speech ',\n \"rivals slam trump violent rallies 'he incites violence \",\n 'oklahoma fraternity closed video racist chant ',\n 'jeb bush 2016 good bad ugly ',\n 'whirlwind day d.c. showcases trump ’ unorthodox views shifting tone ',\n 'andrew maguire – paper gold market trades jaw-dropping 6,800 tonnes one day ',\n 'hillary presidency would bring ',\n 'supreme court readies blockbuster rulings ',\n 'happen mosul isis evicted ',\n 'mall america close first time ever thanksgiving ',\n 'former director national budget warns markets tank us election ',\n 'delete account – episode 23 ’ get sick ',\n 'cnn reach new low call sheriff clarke ‘ terrorist ’ trump gave important job endingfed news network ',\n 'smithsonian refuses include judge black museum normal people opinions ',\n 'iran nuclear deal obama want israel commit suicide ',\n 'syrian war report – november 7 2016 russian attack helicopters swarm homs province vineyard saker ',\n \"bernie 's swan song begins \",\n 'would trump presidency threaten rule law ',\n 'google god ',\n 'bernie sanders says media ’ trump gutless political coward ',\n 'sanders delegates convention agenda ',\n 'necessary break law improve standard living ',\n 'paris climate summit expect historic talks ',\n 'trump doctor ’ letter takes cholesterol drug overweight ‘ excellent ’ health ',\n 'game changer trump supporter charged voter fraud case ',\n \"supreme court right speedy trial ends 're declared guilty \",\n 'told zika virus harmless ',\n 'debating future american power abroad ',\n 'sesame seeds knee osteoarthritis ',\n 'finally get work ',\n 'trick-or-treaters get socks rocked badass hillary pumpkin outside ',\n 'amurexit nafta tpp wall street global policeman ',\n 'islamic state accepts boko haram allegiance pledge ',\n 'wife muslim jihadist killed wounded 100 orlando nightclub massacre says “ knew nothing ” ',\n 'farming invented many times many different farmers vast landscape carlzimmer nytimes russia news ',\n \"netanyahu warns iran deal could 'threaten survival israel \",\n 'comey reopened hillary investigation ',\n 'hillary leaked audio discussing rigging election palestine ',\n \"brussels trump 's 'strength resonates gop voters +video \",\n 'intercept outs neocon democrat ’ smear trump ‘ putin ’ puppet ’ eric zuesse ',\n 'done deal clinton trump shift general election big wins ',\n '’ told 90 american media controlled six corporations ',\n 'steve quayle economic collapse world war 3 u elections ',\n 'brian williams ’ chopper whopper says modern news media ',\n 'republicans little reason act immigration — today also 2016 primaries ',\n '’ need see trump ’ taxes — need real medical report ',\n 'police morale wait baltimore riots reshape attorney general loretta lynch ’ agenda ',\n 'militarized police standing rock working man ',\n 'bundy ranch occupiers acquitted counts challenging corrupt bureau land management ',\n 'truth atlantis video ',\n 'major corporate sponsors scaling back support gop convention ',\n 'admit love tax day opinion ',\n 'western qld drovers show solidarity c.u.b workers drinking sauv blanc – betoota advocate ',\n 'cnbc confirmed comey abusing power help trump ',\n 'jason chaffetz exposed hillary clinton ’ plan bribe fbi agents let go ',\n \"obama baltimore 'this new \",\n 'us ruling daesh involvement afghanistan offensive ',\n 'united states pre-positioning “ enemy assets ” preparation rigged election ',\n 'booze brands polarize like politicians ',\n 'greece iran seem willing take world +video ',\n 'comment “ second one ” — virginia cop caught bragging killing two unarmed people jamieson ',\n 'hillary clinton promises steady leadership jobs historic speech ',\n 'news election night disaster john king tapped electoral college map hard fell headfirst digital hellscape ',\n 'clinton email investigation shifted polls significantly trump ’ favor ',\n \"people power natives declare treaty rights police admit defeat cite lack 'manpower remove dapl protesters \",\n \"obama u.s. solve world 's problems alone \",\n 'hackers eroded americans trust democratic process ',\n 'boy autism makes first friend ever mom ’ stop crying ',\n 'julian assange october surprise revealed ',\n 'first contact film trailer ',\n '370 economists sign letter urging america vote donald trump ',\n 'come jobs finally ',\n \"walker 's departure means gop field \",\n 'julian assange ends suspense “ source hacked emails russia ” ',\n 'dem operative oversaw trump rally agitators visited white house 342 times ',\n 'trump tsunami incoming trump florida today make president ',\n \"trump ’ star vandalized hollywood walk fame onion america 's finest news source \",\n 'obama ’ trip ethiopia alarms human rights activists ',\n 'nearly wild animals face mass extinction 2020 ',\n 'illegal immigrants could elect hillary ',\n '15 foods contain vitamin e alternative ',\n 'trey gowdy “ word loretta lynch talking comey ” ',\n 'northern sea route new prospects pacific rim new eastern outlook ',\n 'cruz campaign could stopped trump rubio became running mate ',\n 'free summit health experts teaches healthy fats reverse disease lose weight ',\n 'kentucky governor electing hillary clinton may eventually lead violence ',\n \"contaminated food china entering u.s 'organic label \",\n 'forget wikileaks real october surprise going stop hillary ',\n 'donald trump next president united states america ',\n '14 days counting-there civil war matter wins election ',\n 'internet fire speculation podesta emails contain code child sex ',\n \"inside jeb 's 'shock awe launch \",\n 'southern poverty law center targets anti-jihad crusaders ann corcoran honored ',\n 'babylon mystery religion series ',\n 'relief efforts find survivors intensify amid powerful aftershocks ',\n 'early 2016 primary calendar set change ',\n \"trump would n't accept cruz 's endorsement \",\n 'federalism ',\n 'confirmed public overwhelmingly 10-to-1 says media want hillary win ',\n 'mitt romney calls donald trump phony fraud trump hits back ',\n 'jamaica obama indicates remove cuba terrorism list ',\n 'turkey rounds erdogan ’ political opponents crackdown widens ',\n 'trump controlled mossad ',\n 'polls longer rigged election ',\n 'new lunar craters mystery space news ',\n \"cruz 's immigration gambit \",\n 'donald trump wins presidency historic victory ',\n \"trump slams gop nominating process top aide accuses cruz 'gestapo tactics win delegates \",\n 'battle ages ',\n 'discrimination condemnation australia ’ war boat people ',\n 'obama hits trail hillary clinton help hurt ',\n 'scalia ’ death comes month court ’ biggest abortion case years ',\n \"empire files inside palestine 's refugee camps \",\n 'new saudi king ascends throne terrorism threat grows ',\n 'another deadline looming whispers iran nuclear deal emerge ',\n \"donald trump 's clintonesque foreign policy \",\n 'israeli trumpess ',\n 'comment sheriff says cannabis makes people murderers “ rational thought ” leads violence isaid dilligaf ',\n 'seven world-historical achievements iraq invasion 2003 ',\n 'major voter fraud already running rampant republicans ',\n 'backers romney open 2016 ',\n 'yes paid government trolls social media blogs forums websites ',\n 'real reason hillary prosecuted email scandal infuriate ',\n \"rachel dolezal 's assertion black could pave way folks choosing 'racial identity \",\n 'brexit law ',\n 'tsarnaev mom americans ‘ terrorists ’ ',\n '’ ‘ islamophobia ’ oklahoma gop state rep. says “ islam cancer nation needs cut ” ',\n 'welcome paris tour buses navigate around new muslim tent cities filling streets ',\n 'clinton braces nevada nail-biter ',\n 'israeli trumpess ',\n 'us insiders – russia – leaked clinton emails ',\n 'smash gold silver happening shocking game-changer gold silver unfolding… ',\n 'dad weird mood since 2004 ',\n 'nato buildup eastern europe ‘ ’ seen tip iceberg ’ ',\n 'california oregon want secede u.s. trump election ',\n \"top five things watch tonight 's debate \",\n 'nra admitted always lying obama confiscating guns ',\n 'head medicare oversaw obamacare rollout step ',\n 'republican protester says nearly killed trump says ‘ take ’ ',\n 'donald trump president confederacy southern strategy created gop civil war ',\n 'former miss finland accuses trump sexual assault bringing number accusers 12 ',\n 'kerry orders state department review records retention amid clinton email controversy ',\n 'united states \\x96 reformation fracture ',\n 'sharp exchange election-year polling offers thoughts rest us ',\n 'romney ’ reboot 2012 loser really fix problems 2016 ',\n 'possible fix polarization american politics ',\n 'ceta canada challenged eu ’ chemical regulations 21 times ',\n 'tiny homes banned u.s. increasing rate govt criminalizes sustainable living ',\n 'life third-graders saw classmate ’ lunch kept feeding lunches clogged door got school canceled ',\n 'us faces calls ‘ walk away ’ iran talks ',\n 'netanyahu warns supporters may lose tuesday ’ election ',\n \"harry reid calls trade push obama gop 'insanity \",\n 'sex presidential city ',\n 'san bernardino massacre horror affects us ',\n \"netanyahu 's iran speech 's important congress least listen israel 's leader \",\n \"obama warren 'absolutely wrong trade deal \",\n 'guardian going friggin nuts calais ',\n 'swing-state stunner trump edge key states ',\n 'austrian disgrace jail muslim migrant dumped baby middle road got drunk enraged ',\n 'modern history \\x91rigged\\x92 us elections ',\n 'carly fiorina appear top-tier reagan library debate ',\n 'strange thing moving alaska ’ chena river caught video ',\n \"trump expected name running mate soon looking 'attack dog \",\n 'president obama ’ interview samantha bee rolling floor laughing video ',\n 'end road john kasich ',\n 'negotiators paris climate talks tossing kyoto model ',\n 'happened 2014 quebec tried pass charter would banned religious attire public specifically prevent muslim women hiding faces ',\n 'election 2016 growing global nuclear threat ',\n 'barack juggle bibi vlad hillary ',\n 'pentagon plan ‘ far ’ us troops enter mosul ',\n 'russian pianist denis matsuev terrorized us supporting putin ',\n 'rand paul marco rubio ’ feud cuba policy preview gop ’ 2016 foreign policy debate ',\n 'former gop representative calls armed insurrection video ',\n 'jeb bush blames iraq unrest obama ',\n 'cop versus two informed teens refuse submit unlawful detainment ',\n 'al qaeda rep says group directed paris magazine attack us issues travel warning ',\n 'trump make “ secret deal prosecute hillary ” exchange concession ',\n \"'draw muhammad shootings say islamic state reach +video \",\n '4 truly important items post-election list things protest ',\n 'public vs. media war ',\n \"baltimore 's call federal police probe new search answers +video \",\n 'freedom rider organizing age hillary ',\n 'iowa caucuses closer think ',\n 'entering u.s. refugees would hard terrorists ',\n 'crooked hillary investigation reopens democrat cities push allow illegal immigrants voting ',\n 'cnn calls sheriff clarke ‘ terrorist ’ trump considers giving incredible new job endingfed news network ',\n 'town wisconsin passes law fines parents bullies ',\n \"'s moderate republicans n't running congress anymore \",\n \"supreme court consider redefining 'one-person one-vote principle \",\n 'iowa nightmare revisited correct winner called caucus night ',\n \"fbi investigating new clinton emails onion america 's finest news source \",\n 'revealing interview trump predicts ‘ massive recession ’ intends eliminate national debt 8 years ',\n 'euro-russian mars lander may exploded due software glitch ',\n 'limitations randomised controlled trials ',\n 'climate change opinion ',\n 'obama gov scott walker needs ‘ bone ’ foreign policy ',\n \"watch obama criticizes kenya 's president gay rights stand right \",\n 'shallow 5.4 magnitude earthquake rattles central italy shakes buildings rome ',\n 'obama ’ plan boost defense budget points brewing national security debate ',\n 'trump clinton looking vp ',\n 'trumps hollywood walk fame star destroyed sledgehammer pick ',\n 'gop ’ nuclear option donald trump way beat scary ',\n \"checking claim 'nobody anything wrong benghazi \",\n \"'s winning indiana 's anybody 's guess \",\n 'palin ’ endorsement latest prize trump cruz battle conservatives ',\n 'refugee resettlement watch swept away north carolina ',\n 'unravelling chattanooga know shooter ',\n 'november kale ',\n \"'there appear rules anymore \",\n 'university missouri please immediately fire employees taunted media ',\n 'trump vs. clinton could reshape electoral map ',\n 'trump ups ante indiana ',\n 'plutocrats love jeb voters ’ bush ’ “ electability ” argument getting even weaker ',\n '300 us marines deployed norway near russian border first time since world war ii ',\n 'julian assange published us elections ',\n 'pakistan expels india diplomat tit-for-tat move ',\n 'news shot detroit airport uses new system control travelers ',\n 'chris christie run beat hillary clinton ',\n 'christie hides $ 800,000 travel bills ',\n 'russia deploys missiles syria turkey shoots bomber ',\n 'lawbreaking airbnb sends spam violates can-spam act ',\n 'marco rubio self-destructs new hampshire ',\n 'comment entitled customer slams restaurant yelp happens next sheer badassery customize jerseys ',\n 'exclusive foreign isis fighters defend mosul frontline locals flee ',\n 'president united states america donald j. trump ',\n 'gop dying literally ',\n 'michael bloomberg names technological unemployment next administration ’ “ greatest conundrum ” ',\n 'carly fiorina swipes trump ‘ look face ’ ',\n 'donald trump hillary clinton stand economic issues ',\n 'anyone beat trump primary history says ',\n 'morning plum get ready another ideological death struggle time climate ',\n 'two points hillary clinton email fiasco ',\n 'firm wins $ 63mln us army contract south korea nci ',\n 'terror attack 147 dead kenya university ',\n 'wall street hollywood media sjws fail stop donald trump becoming america ’ 45th president ',\n \"robert durst hbo 's 'the jinx charged murder \",\n 'iraq offensive fail ',\n 'hope hype hiroshima ’ conceal obama ’ dismal record nuclear disarmament ',\n '650,000 emails found anthony weiner ’ laptop doj blocked foundation probe ',\n 'congress undermines u.s global economic standing ',\n 'iran nuclear talks deal falls ',\n 'election ’ rape sexual assault accusations need taken seriously ',\n 'democratic convention passionate end day one steadies early drama ',\n \"gop 's big-money plan save senate \",\n 'turns trump put investigators 6 months destroyed emails ',\n 'russian navy moves guided missile ships baltic ',\n 'cruz blasts trump phony conservative front cpac crowd ',\n 'taking trump voters ’ concerns seriously means listening ’ actually saying ',\n 'donald trump ’ campaign terror billionaire channeled authoritarian rage — soared top polls ',\n 'brics countries invest $ 500 million russian gold deposit kira egorova ',\n '“ thing late ” obama issues desperate call global climate deal ',\n 'hybrid wars 8 strategies africa – introduction ',\n '’ going lose november 8th get prepped post-election chaos checklist video ',\n 'hiv ‘ cure ’ almost complete scientists remove virus ’ dna living tissue ',\n 'vortex structured water video ',\n 'missing gop debate stage future president opinion ',\n 'senators seek ‘ living wage ’ capitol hill contractors ',\n 'brian williams fire shifting story iraq helicopter attack ',\n 'getting 10 minutes sunlight per day stop depression ',\n 'austria freedom party leader calls chancellor angela merkel “ dangerous woman europe ” ',\n 'sex scandal could change election ',\n 'obama administration announces halt new coal leases ',\n 'obamacare cancer ’ treated quickly aggressively die ',\n 'topic unlike muslims…horses actually sense humor ',\n 'irish tv channel killed weather presenter halloween ',\n 'scientists claim found 234 alien civilizations ',\n 'syrian living syria “ never revolution civil war terrorists sent government ” ',\n \"president obama 's persistent puzzling passivity terrorism \",\n 'baby bonds plan black/white wealth equality conservatives could love ',\n 'two-time world champion kickboxing killed moscow video ',\n \"jeb 's invisible man strategy \",\n 'death millions yemenis forgotten war ',\n 'charlie hebdo attack suspects names photos released ',\n 'ted cruz-marco rubio debate mattered +video ',\n 'david sweat shot captured alive new york manhunt ',\n \"texas county switches 'emergency paper ballots \",\n 'police family fakes robbery vandalizes home blame black lives matter ',\n \"obama opens iran 's learned war republicans foreign policy \",\n \"bernie sanders 's campaign makes worry ’ manage white house \",\n 'dnc donors really think african americans ',\n \"leaked email shows monsanto executive v.p invited 'hillraiser fundraiser put clinton white house monsanto 's benefit \",\n 'clintons multiple fbi investigations agents stymied ',\n 'first iraqi troops enter mosul fighting remains largely suburbs ',\n 'shock video hillary needs help climbing one single step florida – truthfeed ',\n 'vowing end two wars obama may leave three behind ',\n 'climate engineering cryosphere collapse ',\n ...]"
     },
     "metadata": {},
     "execution_count": 16
    }
   ],
   "source": [
    "clean_title = []\n",
    "for i in range(6335):\n",
    "    title_msg = df['title'].values[i]\n",
    "    tokenized_title = word_tokenize(title_msg)\n",
    "    clean_txt = ''\n",
    "    for word in tokenized_title:\n",
    "        word = word.lower()\n",
    "        if not word in list_of_stopwords and word != '.' and word != \"''\" and word!=\"``\"and word !=']' and word !='!' and word !='%' and word !='&' and word !='?' and word !='//' and word !=';' and word !='|' and word != ' ' and word != \"'\" and word !='\"' and  word !='[' and word != '@' and word != ',' and word !='#' and word !='..' and word !='-' and word !='(' and word !=')' and word != '...' and word != '/' and word !=':':\n",
    "            clean_txt += word + ' '\n",
    "            \n",
    "    clean_title.append(clean_txt)\n",
    "    \n",
    "clean_title"
   ]
  },
  {
   "cell_type": "code",
   "execution_count": 17,
   "metadata": {},
   "outputs": [],
   "source": [
    "df['clean_title'] = clean_title"
   ]
  },
  {
   "cell_type": "code",
   "execution_count": 18,
   "metadata": {},
   "outputs": [
    {
     "output_type": "execute_result",
     "data": {
      "text/plain": "   Unnamed: 0                                              title  \\\n0        8476                       You Can Smell Hillary’s Fear   \n1       10294  Watch The Exact Moment Paul Ryan Committed Pol...   \n2        3608        Kerry to go to Paris in gesture of sympathy   \n3       10142  Bernie supporters on Twitter erupt in anger ag...   \n4         875   The Battle of New York: Why This Primary Matters   \n\n                                                text label  \\\n0  Daniel Greenfield, a Shillman Journalism Fello...  FAKE   \n1  Google Pinterest Digg Linkedin Reddit Stumbleu...  FAKE   \n2  U.S. Secretary of State John F. Kerry said Mon...  REAL   \n3  — Kaydee King (@KaydeeKing) November 9, 2016 T...  FAKE   \n4  It's primary day in New York and front-runners...  REAL   \n\n                                          clean_text  \\\n0  daniel greenfield shillman journalism fellow f...   \n1  google pinterest digg linkedin reddit stumbleu...   \n2  u.s. secretary state john f. kerry said monday...   \n3  — kaydee king kaydeeking november 9 2016 lesso...   \n4  's primary day new york front-runners hillary ...   \n\n                                         clean_title  \n0                              smell hillary ’ fear   \n1  watch exact moment paul ryan committed politic...  \n2                   kerry go paris gesture sympathy   \n3  bernie supporters twitter erupt anger dnc 'we ...  \n4                   battle new york primary matters   ",
      "text/html": "<div>\n<style scoped>\n    .dataframe tbody tr th:only-of-type {\n        vertical-align: middle;\n    }\n\n    .dataframe tbody tr th {\n        vertical-align: top;\n    }\n\n    .dataframe thead th {\n        text-align: right;\n    }\n</style>\n<table border=\"1\" class=\"dataframe\">\n  <thead>\n    <tr style=\"text-align: right;\">\n      <th></th>\n      <th>Unnamed: 0</th>\n      <th>title</th>\n      <th>text</th>\n      <th>label</th>\n      <th>clean_text</th>\n      <th>clean_title</th>\n    </tr>\n  </thead>\n  <tbody>\n    <tr>\n      <th>0</th>\n      <td>8476</td>\n      <td>You Can Smell Hillary’s Fear</td>\n      <td>Daniel Greenfield, a Shillman Journalism Fello...</td>\n      <td>FAKE</td>\n      <td>daniel greenfield shillman journalism fellow f...</td>\n      <td>smell hillary ’ fear</td>\n    </tr>\n    <tr>\n      <th>1</th>\n      <td>10294</td>\n      <td>Watch The Exact Moment Paul Ryan Committed Pol...</td>\n      <td>Google Pinterest Digg Linkedin Reddit Stumbleu...</td>\n      <td>FAKE</td>\n      <td>google pinterest digg linkedin reddit stumbleu...</td>\n      <td>watch exact moment paul ryan committed politic...</td>\n    </tr>\n    <tr>\n      <th>2</th>\n      <td>3608</td>\n      <td>Kerry to go to Paris in gesture of sympathy</td>\n      <td>U.S. Secretary of State John F. Kerry said Mon...</td>\n      <td>REAL</td>\n      <td>u.s. secretary state john f. kerry said monday...</td>\n      <td>kerry go paris gesture sympathy</td>\n    </tr>\n    <tr>\n      <th>3</th>\n      <td>10142</td>\n      <td>Bernie supporters on Twitter erupt in anger ag...</td>\n      <td>— Kaydee King (@KaydeeKing) November 9, 2016 T...</td>\n      <td>FAKE</td>\n      <td>— kaydee king kaydeeking november 9 2016 lesso...</td>\n      <td>bernie supporters twitter erupt anger dnc 'we ...</td>\n    </tr>\n    <tr>\n      <th>4</th>\n      <td>875</td>\n      <td>The Battle of New York: Why This Primary Matters</td>\n      <td>It's primary day in New York and front-runners...</td>\n      <td>REAL</td>\n      <td>'s primary day new york front-runners hillary ...</td>\n      <td>battle new york primary matters</td>\n    </tr>\n  </tbody>\n</table>\n</div>"
     },
     "metadata": {},
     "execution_count": 18
    }
   ],
   "source": [
    "df.head()"
   ]
  },
  {
   "cell_type": "code",
   "execution_count": 19,
   "metadata": {},
   "outputs": [
    {
     "output_type": "execute_result",
     "data": {
      "text/plain": "'You Can Smell Hillary’s Fear'"
     },
     "metadata": {},
     "execution_count": 19
    }
   ],
   "source": [
    "df.title[0]"
   ]
  },
  {
   "cell_type": "code",
   "execution_count": 20,
   "metadata": {},
   "outputs": [
    {
     "output_type": "execute_result",
     "data": {
      "text/plain": "'smell hillary ’ fear '"
     },
     "metadata": {},
     "execution_count": 20
    }
   ],
   "source": [
    "df.clean_title[0]"
   ]
  },
  {
   "cell_type": "code",
   "execution_count": 21,
   "metadata": {},
   "outputs": [],
   "source": [
    "df['features'] = df['clean_title'].str.cat(df['clean_text'],sep ='')"
   ]
  },
  {
   "cell_type": "code",
   "execution_count": 22,
   "metadata": {},
   "outputs": [
    {
     "output_type": "execute_result",
     "data": {
      "text/plain": "'smell hillary ’ fear daniel greenfield shillman journalism fellow freedom center new york writer focusing radical islam final stretch election hillary rodham clinton gone war fbi word “ unprecedented ” thrown around often election ought retired ’ still unprecedented nominee major political party go war fbi ’ exactly hillary people done coma patients waking watching hour cnn hospital beds would assume fbi director james comey hillary ’ opponent election fbi attack everyone obama cnn hillary ’ people circulated letter attacking comey currently media hit pieces lambasting targeting trump ’ surprising clintons allies start running attack ads fbi fbi ’ leadership warned entire left-wing establishment form lynch mob continue going hillary fbi ’ credibility attacked media democrats preemptively head results investigation clinton foundation hillary clinton covert struggle fbi agents obama ’ doj people gone explosively public new york times compared comey j. edgar hoover bizarre headline “ james comey role recalls hoover ’ fbi fairly ” practically admits front ’ spouting nonsense boston globe published column calling comey ’ resignation outdone time editorial claiming scandal really attack women james carville appeared msnbc remind everyone still alive insane accused comey coordinating house republicans kgb thought “ vast right wing conspiracy ” stretch countless media stories charge comey violating procedure know ’ procedural violation emailing classified information stored bathroom server senator harry reid sent comey letter accusing violating hatch act hatch act nice idea much relevance age obama tenth amendment cable news spectrum quickly filled media hacks glancing wikipedia article hatch act table accusing fbi director one awkward conspiracies hillary ever james comey really hurt hillary picked one hell strange way long ago democrats breathing sigh relief gave hillary clinton pass prominent public statement really elect trump keeping email scandal going trash investigation payroll house republicans kgb back playing coy sudden development vladimir putin paul ryan talked taking look anthony weiner ’ computer either comey cunning fbi director ever lived ’ awkwardly trying navigate political mess trapped doj leadership whose political futures tied hillary ’ victory bureau whose apolitical agents want allowed jobs truly mysterious thing hillary associates decided go war respected federal agency americans like fbi hillary clinton enjoys 60 unfavorable rating ’ interesting question hillary ’ old strategy lie deny fbi even criminal investigation underway instead associates insisted security review fbi corrected shrugged old breezy denial approach given way savage assault fbi pretending nothing wrong bad strategy better one picking fight fbi lunatic clinton associates try claim fbi really kgb two possible explanations hillary clinton might arrogant enough lash fbi believes victory near kind hubris led plan victory fireworks display could lead declare war fbi irritating final miles campaign explanation people panicked going war fbi behavior smart focused presidential campaign ’ act desperation presidential candidate decides option try destroy credibility fbi ’ hubris ’ fear fbi might reveal original fbi investigation hillary clinton confident could ride good reason believing hillary clinton gone place paranoid wreck within short space time “ positive ” clinton campaign promising unite country replaced desperate flailing operation focused energy fighting fbi ’ one reason bizarre behavior clinton campaign decided fbi investigation latest batch emails poses threat survival ’ gone fighting fbi ’ unprecedented step born fear ’ hard know whether fear justified existence fear already tells us whole lot clinton loyalists rigged old investigation knew outcome ahead time well knew debate questions suddenly longer control afraid smell fear fbi wiretaps investigation clinton foundation ’ finding new emails time clintonworld panicked spinmeisters clintonworld claimed email scandal much smoke without fire ’ appearance impropriety without substance ’ react smoke ’ respond fire misguided assault fbi tells us hillary clinton allies afraid revelation bigger fundamental illegality email setup email setup preemptive cover clinton campaign panicked badly belief right wrong whatever crime illegal setup meant cover risk exposed clintons weathered countless scandals years whatever protecting time around bigger usual corruption bribery sexual assaults abuses power followed around throughout years bigger damaging allegations already come ’ want fbi investigators anywhere near campaign comey pure intimidation ’ also warning senior fbi people value careers warned stay away democrats closing ranks around nominee fbi ’ ugly unprecedented scene may also last stand hillary clinton awkwardly wound way numerous scandals election cycle ’ never shown fear desperation changed whatever afraid lies buried emails huma abedin bring like nothing else '"
     },
     "metadata": {},
     "execution_count": 22
    }
   ],
   "source": [
    "df.features[0]"
   ]
  },
  {
   "cell_type": "code",
   "execution_count": 23,
   "metadata": {},
   "outputs": [
    {
     "output_type": "execute_result",
     "data": {
      "text/plain": "   Unnamed: 0                                              title  \\\n0        8476                       You Can Smell Hillary’s Fear   \n1       10294  Watch The Exact Moment Paul Ryan Committed Pol...   \n2        3608        Kerry to go to Paris in gesture of sympathy   \n3       10142  Bernie supporters on Twitter erupt in anger ag...   \n4         875   The Battle of New York: Why This Primary Matters   \n\n                                                text label  \\\n0  Daniel Greenfield, a Shillman Journalism Fello...  FAKE   \n1  Google Pinterest Digg Linkedin Reddit Stumbleu...  FAKE   \n2  U.S. Secretary of State John F. Kerry said Mon...  REAL   \n3  — Kaydee King (@KaydeeKing) November 9, 2016 T...  FAKE   \n4  It's primary day in New York and front-runners...  REAL   \n\n                                          clean_text  \\\n0  daniel greenfield shillman journalism fellow f...   \n1  google pinterest digg linkedin reddit stumbleu...   \n2  u.s. secretary state john f. kerry said monday...   \n3  — kaydee king kaydeeking november 9 2016 lesso...   \n4  's primary day new york front-runners hillary ...   \n\n                                         clean_title  \\\n0                              smell hillary ’ fear    \n1  watch exact moment paul ryan committed politic...   \n2                   kerry go paris gesture sympathy    \n3  bernie supporters twitter erupt anger dnc 'we ...   \n4                   battle new york primary matters    \n\n                                            features  \n0  smell hillary ’ fear daniel greenfield shillma...  \n1  watch exact moment paul ryan committed politic...  \n2  kerry go paris gesture sympathy u.s. secretary...  \n3  bernie supporters twitter erupt anger dnc 'we ...  \n4  battle new york primary matters 's primary day...  ",
      "text/html": "<div>\n<style scoped>\n    .dataframe tbody tr th:only-of-type {\n        vertical-align: middle;\n    }\n\n    .dataframe tbody tr th {\n        vertical-align: top;\n    }\n\n    .dataframe thead th {\n        text-align: right;\n    }\n</style>\n<table border=\"1\" class=\"dataframe\">\n  <thead>\n    <tr style=\"text-align: right;\">\n      <th></th>\n      <th>Unnamed: 0</th>\n      <th>title</th>\n      <th>text</th>\n      <th>label</th>\n      <th>clean_text</th>\n      <th>clean_title</th>\n      <th>features</th>\n    </tr>\n  </thead>\n  <tbody>\n    <tr>\n      <th>0</th>\n      <td>8476</td>\n      <td>You Can Smell Hillary’s Fear</td>\n      <td>Daniel Greenfield, a Shillman Journalism Fello...</td>\n      <td>FAKE</td>\n      <td>daniel greenfield shillman journalism fellow f...</td>\n      <td>smell hillary ’ fear</td>\n      <td>smell hillary ’ fear daniel greenfield shillma...</td>\n    </tr>\n    <tr>\n      <th>1</th>\n      <td>10294</td>\n      <td>Watch The Exact Moment Paul Ryan Committed Pol...</td>\n      <td>Google Pinterest Digg Linkedin Reddit Stumbleu...</td>\n      <td>FAKE</td>\n      <td>google pinterest digg linkedin reddit stumbleu...</td>\n      <td>watch exact moment paul ryan committed politic...</td>\n      <td>watch exact moment paul ryan committed politic...</td>\n    </tr>\n    <tr>\n      <th>2</th>\n      <td>3608</td>\n      <td>Kerry to go to Paris in gesture of sympathy</td>\n      <td>U.S. Secretary of State John F. Kerry said Mon...</td>\n      <td>REAL</td>\n      <td>u.s. secretary state john f. kerry said monday...</td>\n      <td>kerry go paris gesture sympathy</td>\n      <td>kerry go paris gesture sympathy u.s. secretary...</td>\n    </tr>\n    <tr>\n      <th>3</th>\n      <td>10142</td>\n      <td>Bernie supporters on Twitter erupt in anger ag...</td>\n      <td>— Kaydee King (@KaydeeKing) November 9, 2016 T...</td>\n      <td>FAKE</td>\n      <td>— kaydee king kaydeeking november 9 2016 lesso...</td>\n      <td>bernie supporters twitter erupt anger dnc 'we ...</td>\n      <td>bernie supporters twitter erupt anger dnc 'we ...</td>\n    </tr>\n    <tr>\n      <th>4</th>\n      <td>875</td>\n      <td>The Battle of New York: Why This Primary Matters</td>\n      <td>It's primary day in New York and front-runners...</td>\n      <td>REAL</td>\n      <td>'s primary day new york front-runners hillary ...</td>\n      <td>battle new york primary matters</td>\n      <td>battle new york primary matters 's primary day...</td>\n    </tr>\n  </tbody>\n</table>\n</div>"
     },
     "metadata": {},
     "execution_count": 23
    }
   ],
   "source": [
    "df.head()"
   ]
  },
  {
   "cell_type": "code",
   "execution_count": 24,
   "metadata": {},
   "outputs": [],
   "source": [
    "from sklearn.model_selection import train_test_split\n",
    "from sklearn.metrics import accuracy_score"
   ]
  },
  {
   "cell_type": "code",
   "execution_count": 25,
   "metadata": {},
   "outputs": [],
   "source": [
    "# For converting text data to a sparse matrix so that it can be used for training the model\n",
    "from sklearn.feature_extraction.text import CountVectorizer\n",
    "cv = CountVectorizer()"
   ]
  },
  {
   "cell_type": "code",
   "execution_count": 26,
   "metadata": {},
   "outputs": [],
   "source": [
    "# X - Independent variable, Y - Dependent variable\n",
    "X = cv.fit_transform(df['features'])\n",
    "Y = df['label']"
   ]
  },
  {
   "cell_type": "code",
   "execution_count": 27,
   "metadata": {},
   "outputs": [],
   "source": [
    "X_train, X_test, Y_train, Y_test = train_test_split(X, Y, test_size=0.2)"
   ]
  },
  {
   "cell_type": "code",
   "execution_count": 28,
   "metadata": {},
   "outputs": [
    {
     "output_type": "execute_result",
     "data": {
      "text/plain": "((5068, 67918), (1267, 67918), (5068,), (1267,))"
     },
     "metadata": {},
     "execution_count": 28
    }
   ],
   "source": [
    "X_train.shape , X_test.shape , Y_train.shape , Y_test.shape"
   ]
  },
  {
   "cell_type": "markdown",
   "metadata": {},
   "source": [
    "# Support Vector Machines"
   ]
  },
  {
   "cell_type": "code",
   "execution_count": 29,
   "metadata": {},
   "outputs": [],
   "source": [
    "from sklearn.svm import SVC\n",
    "svc = SVC()"
   ]
  },
  {
   "cell_type": "code",
   "execution_count": 30,
   "metadata": {},
   "outputs": [],
   "source": [
    "y_pred1 = svc.fit(X_train, Y_train)"
   ]
  },
  {
   "cell_type": "code",
   "execution_count": 31,
   "metadata": {},
   "outputs": [],
   "source": [
    "y_pred1 = svc.predict(X_test)"
   ]
  },
  {
   "cell_type": "code",
   "execution_count": 32,
   "metadata": {},
   "outputs": [
    {
     "output_type": "execute_result",
     "data": {
      "text/plain": "0.8745067087608525"
     },
     "metadata": {},
     "execution_count": 32
    }
   ],
   "source": [
    "accuracy_score(y_pred1,Y_test)"
   ]
  },
  {
   "cell_type": "markdown",
   "metadata": {},
   "source": [
    "# Random Forest Classifier"
   ]
  },
  {
   "cell_type": "code",
   "execution_count": 33,
   "metadata": {},
   "outputs": [],
   "source": [
    "from sklearn.ensemble import RandomForestClassifier\n",
    "rfc = RandomForestClassifier()"
   ]
  },
  {
   "cell_type": "code",
   "execution_count": 34,
   "metadata": {},
   "outputs": [
    {
     "output_type": "execute_result",
     "data": {
      "text/plain": "RandomForestClassifier(bootstrap=True, ccp_alpha=0.0, class_weight=None,\n                       criterion='gini', max_depth=None, max_features='auto',\n                       max_leaf_nodes=None, max_samples=None,\n                       min_impurity_decrease=0.0, min_impurity_split=None,\n                       min_samples_leaf=1, min_samples_split=2,\n                       min_weight_fraction_leaf=0.0, n_estimators=100,\n                       n_jobs=None, oob_score=False, random_state=None,\n                       verbose=0, warm_start=False)"
     },
     "metadata": {},
     "execution_count": 34
    }
   ],
   "source": [
    "rfc.fit(X_train,Y_train)"
   ]
  },
  {
   "cell_type": "code",
   "execution_count": 35,
   "metadata": {},
   "outputs": [],
   "source": [
    "y_pred2 = rfc.predict(X_test)"
   ]
  },
  {
   "cell_type": "code",
   "execution_count": 36,
   "metadata": {},
   "outputs": [
    {
     "output_type": "execute_result",
     "data": {
      "text/plain": "0.9021310181531176"
     },
     "metadata": {},
     "execution_count": 36
    }
   ],
   "source": [
    "accuracy_score(y_pred2,Y_test)"
   ]
  },
  {
   "cell_type": "markdown",
   "metadata": {},
   "source": [
    "# Multinomial Naive Bayes"
   ]
  },
  {
   "cell_type": "code",
   "execution_count": 37,
   "metadata": {},
   "outputs": [
    {
     "output_type": "execute_result",
     "data": {
      "text/plain": "MultinomialNB(alpha=1.0, class_prior=None, fit_prior=True)"
     },
     "metadata": {},
     "execution_count": 37
    }
   ],
   "source": [
    "from sklearn.naive_bayes import MultinomialNB\n",
    "mnb = MultinomialNB()\n",
    "mnb.fit(X_train, Y_train)"
   ]
  },
  {
   "cell_type": "code",
   "execution_count": 38,
   "metadata": {},
   "outputs": [],
   "source": [
    "y_pred3 = mnb.predict(X_test)"
   ]
  },
  {
   "cell_type": "code",
   "execution_count": 39,
   "metadata": {},
   "outputs": [
    {
     "output_type": "execute_result",
     "data": {
      "text/plain": "0.9068666140489345"
     },
     "metadata": {},
     "execution_count": 39
    }
   ],
   "source": [
    "accuracy_score(y_pred3,Y_test)"
   ]
  },
  {
   "cell_type": "markdown",
   "metadata": {},
   "source": [
    "# KNN"
   ]
  },
  {
   "cell_type": "code",
   "execution_count": 40,
   "metadata": {},
   "outputs": [],
   "source": [
    "#from sklearn.neighbors import KNeighborsClassifier"
   ]
  },
  {
   "cell_type": "code",
   "execution_count": 41,
   "metadata": {},
   "outputs": [],
   "source": [
    "#knn = KNeighborsClassifier(n_neighbors=417)\n",
    "#knn.fit(X_train,Y_train)"
   ]
  },
  {
   "cell_type": "code",
   "execution_count": 42,
   "metadata": {},
   "outputs": [],
   "source": [
    "#y_pred4 = knn.predict(X_test)"
   ]
  },
  {
   "cell_type": "code",
   "execution_count": 43,
   "metadata": {},
   "outputs": [],
   "source": [
    "#accuracy_score(y_pred4,Y_test)"
   ]
  },
  {
   "cell_type": "markdown",
   "metadata": {},
   "source": [
    "# Ensemble learning(using VotingClassifier)"
   ]
  },
  {
   "cell_type": "code",
   "execution_count": 44,
   "metadata": {},
   "outputs": [],
   "source": [
    "from sklearn import model_selection"
   ]
  },
  {
   "cell_type": "code",
   "execution_count": 45,
   "metadata": {},
   "outputs": [],
   "source": [
    "from sklearn.ensemble import VotingClassifier"
   ]
  },
  {
   "cell_type": "code",
   "execution_count": 46,
   "metadata": {},
   "outputs": [],
   "source": [
    "estimators = []"
   ]
  },
  {
   "cell_type": "code",
   "execution_count": 47,
   "metadata": {},
   "outputs": [],
   "source": [
    "estimators.append(('svm', svc))\n",
    "estimators.append(('randomforest', rfc))\n",
    "estimators.append(('multinomial naive bayes', mnb))"
   ]
  },
  {
   "cell_type": "code",
   "execution_count": 48,
   "metadata": {},
   "outputs": [],
   "source": [
    "ensemble = VotingClassifier(estimators,voting='hard')"
   ]
  },
  {
   "cell_type": "code",
   "execution_count": 49,
   "metadata": {},
   "outputs": [
    {
     "output_type": "execute_result",
     "data": {
      "text/plain": "VotingClassifier(estimators=[('svm',\n                              SVC(C=1.0, break_ties=False, cache_size=200,\n                                  class_weight=None, coef0=0.0,\n                                  decision_function_shape='ovr', degree=3,\n                                  gamma='scale', kernel='rbf', max_iter=-1,\n                                  probability=False, random_state=None,\n                                  shrinking=True, tol=0.001, verbose=False)),\n                             ('randomforest',\n                              RandomForestClassifier(bootstrap=True,\n                                                     ccp_alpha=0.0,\n                                                     class_weight=None,\n                                                     cri...\n                                                     min_impurity_decrease=0.0,\n                                                     min_impurity_split=None,\n                                                     min_samples_leaf=1,\n                                                     min_samples_split=2,\n                                                     min_weight_fraction_leaf=0.0,\n                                                     n_estimators=100,\n                                                     n_jobs=None,\n                                                     oob_score=False,\n                                                     random_state=None,\n                                                     verbose=0,\n                                                     warm_start=False)),\n                             ('multinomial naive bayes',\n                              MultinomialNB(alpha=1.0, class_prior=None,\n                                            fit_prior=True))],\n                 flatten_transform=True, n_jobs=None, voting='hard',\n                 weights=None)"
     },
     "metadata": {},
     "execution_count": 49
    }
   ],
   "source": [
    "ensemble.fit(X_train, Y_train)"
   ]
  },
  {
   "cell_type": "code",
   "execution_count": 50,
   "metadata": {},
   "outputs": [],
   "source": [
    "y_pred5 = ensemble.predict(X_test)"
   ]
  },
  {
   "cell_type": "code",
   "execution_count": 51,
   "metadata": {},
   "outputs": [
    {
     "output_type": "execute_result",
     "data": {
      "text/plain": "0.9179163378058406"
     },
     "metadata": {},
     "execution_count": 51
    }
   ],
   "source": [
    "accuracy_score(y_pred5,Y_test)"
   ]
  },
  {
   "cell_type": "code",
   "execution_count": 52,
   "metadata": {},
   "outputs": [
    {
     "output_type": "execute_result",
     "data": {
      "text/plain": "'statement = input(\"Enter your statement and I will predict whether it is true or false : \")\\nuser_input = pd.Series(statement)\\nuser_test=cv.transform(user_input)\\nprint(\"The prediction is\",ensemble.predict(user_test)[0])'"
     },
     "metadata": {},
     "execution_count": 52
    }
   ],
   "source": [
    "'''statement = input(\"Enter your statement and I will predict whether it is true or false : \")\n",
    "user_input = pd.Series(statement)\n",
    "user_test=cv.transform(user_input)\n",
    "print(\"The prediction is\",ensemble.predict(user_test)[0])'''"
   ]
  },
  {
   "cell_type": "code",
   "execution_count": null,
   "metadata": {},
   "outputs": [],
   "source": []
  },
  {
   "cell_type": "code",
   "execution_count": 53,
   "metadata": {},
   "outputs": [],
   "source": [
    "import pickle"
   ]
  },
  {
   "cell_type": "code",
   "execution_count": 54,
   "metadata": {},
   "outputs": [],
   "source": [
    "with open('model.pickle', 'wb') as mp:\n",
    "    pickle.dump(ensemble, mp)"
   ]
  },
  {
   "cell_type": "code",
   "execution_count": 55,
   "metadata": {},
   "outputs": [],
   "source": [
    "mp.close()"
   ]
  },
  {
   "cell_type": "code",
   "execution_count": 56,
   "metadata": {},
   "outputs": [],
   "source": [
    "#with open('model.pickle', 'rb') as mod:\n",
    " #   model = pickle.load(mod)"
   ]
  },
  {
   "cell_type": "code",
   "execution_count": 57,
   "metadata": {},
   "outputs": [],
   "source": [
    "#y_pred6 = model.predict(X_test)"
   ]
  },
  {
   "cell_type": "code",
   "execution_count": 58,
   "metadata": {},
   "outputs": [],
   "source": [
    "#accuracy_score(y_pred6,Y_test)"
   ]
  },
  {
   "cell_type": "code",
   "execution_count": 59,
   "metadata": {},
   "outputs": [
    {
     "output_type": "execute_result",
     "data": {
      "text/plain": "'statement = input(\"Enter your statement and I will predict whether it is true or false : \")\\nuser_input = pd.Series(statement)\\nuser_test=cv.transform(user_input)\\nprint(\"The prediction is\",model.predict(user_test)[0])'"
     },
     "metadata": {},
     "execution_count": 59
    }
   ],
   "source": [
    "'''statement = input(\"Enter your statement and I will predict whether it is true or false : \")\n",
    "user_input = pd.Series(statement)\n",
    "user_test=cv.transform(user_input)\n",
    "print(\"The prediction is\",model.predict(user_test)[0])'''"
   ]
  },
  {
   "cell_type": "code",
   "execution_count": null,
   "metadata": {},
   "outputs": [],
   "source": []
  }
 ],
 "metadata": {
  "kernelspec": {
   "display_name": "Python 3",
   "language": "python",
   "name": "python3"
  },
  "language_info": {
   "codemirror_mode": {
    "name": "ipython",
    "version": 3
   },
   "file_extension": ".py",
   "mimetype": "text/x-python",
   "name": "python",
   "nbconvert_exporter": "python",
   "pygments_lexer": "ipython3",
   "version": "3.7.6-final"
  }
 },
 "nbformat": 4,
 "nbformat_minor": 4
}