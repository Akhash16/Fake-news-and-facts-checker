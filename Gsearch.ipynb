{
 "cells": [
  {
   "cell_type": "code",
   "execution_count": 2,
   "metadata": {},
   "outputs": [],
   "source": [
    "from urllib.request import Request,urlopen\n",
    "from bs4 import BeautifulSoup as soup "
   ]
  },
  {
   "cell_type": "code",
   "execution_count": 4,
   "metadata": {},
   "outputs": [
    {
     "name": "stdout",
     "output_type": "stream",
     "text": [
      "Enter any sentence: barcelona won the ucl final 2020\n"
     ]
    },
    {
     "data": {
      "text/plain": [
       "'2020–21 UEFA Champions League. The UEFA Champions League is a seasonal football competition established in 1955. Prior to ... A total of 22 clubs have won the Champions League/European Cup. ... \"1985/86: Steaua stun Barcelona\".'"
      ]
     },
     "execution_count": 4,
     "metadata": {},
     "output_type": "execute_result"
    }
   ],
   "source": [
    "user_text = input(\"Enter any sentence: \")\n",
    "temp = user_text.split()\n",
    "processed_text = '+'.join(temp)\n",
    "\n",
    "\n",
    "my_url = f'https://www.google.com/search?q={processed_text}' \n",
    "req = Request(my_url, headers={'User-Agent': 'Mozilla/5.0'})\n",
    "uClient = urlopen(req)\n",
    "page_html = uClient.read()\n",
    "uClient.close()\n",
    "page_soup = soup(page_html,'html.parser')\n",
    "\n",
    "\n",
    "container1 = page_soup.find_all('div', {'class': 'BNeawe s3v9rd AP7Wnd'})\n",
    "container1[2].text"
   ]
  },
  {
   "cell_type": "code",
   "execution_count": null,
   "metadata": {},
   "outputs": [],
   "source": []
  }
 ],
 "metadata": {
  "kernelspec": {
   "display_name": "Python 3",
   "language": "python",
   "name": "python3"
  },
  "language_info": {
   "codemirror_mode": {
    "name": "ipython",
    "version": 3
   },
   "file_extension": ".py",
   "mimetype": "text/x-python",
   "name": "python",
   "nbconvert_exporter": "python",
   "pygments_lexer": "ipython3",
   "version": "3.7.6"
  }
 },
 "nbformat": 4,
 "nbformat_minor": 4
}
